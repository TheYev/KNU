{
 "cells": [
  {
   "cell_type": "code",
   "execution_count": 6,
   "metadata": {},
   "outputs": [
    {
     "name": "stdout",
     "output_type": "stream",
     "text": [
      "Requirement already satisfied: numpy in c:\\users\\thedi\\onedrive\\desktop\\knu\\nhci\\.venv\\lib\\site-packages (2.2.4)\n",
      "Collecting matplotlib\n",
      "  Downloading matplotlib-3.10.1-cp313-cp313-win_amd64.whl.metadata (11 kB)\n",
      "Collecting contourpy>=1.0.1 (from matplotlib)\n",
      "  Using cached contourpy-1.3.1-cp313-cp313-win_amd64.whl.metadata (5.4 kB)\n",
      "Collecting cycler>=0.10 (from matplotlib)\n",
      "  Using cached cycler-0.12.1-py3-none-any.whl.metadata (3.8 kB)\n",
      "Collecting fonttools>=4.22.0 (from matplotlib)\n",
      "  Using cached fonttools-4.56.0-cp313-cp313-win_amd64.whl.metadata (103 kB)\n",
      "Collecting kiwisolver>=1.3.1 (from matplotlib)\n",
      "  Using cached kiwisolver-1.4.8-cp313-cp313-win_amd64.whl.metadata (6.3 kB)\n",
      "Requirement already satisfied: packaging>=20.0 in c:\\users\\thedi\\onedrive\\desktop\\knu\\nhci\\.venv\\lib\\site-packages (from matplotlib) (24.2)\n",
      "Collecting pillow>=8 (from matplotlib)\n",
      "  Using cached pillow-11.1.0-cp313-cp313-win_amd64.whl.metadata (9.3 kB)\n",
      "Collecting pyparsing>=2.3.1 (from matplotlib)\n",
      "  Downloading pyparsing-3.2.3-py3-none-any.whl.metadata (5.0 kB)\n",
      "Requirement already satisfied: python-dateutil>=2.7 in c:\\users\\thedi\\onedrive\\desktop\\knu\\nhci\\.venv\\lib\\site-packages (from matplotlib) (2.9.0.post0)\n",
      "Requirement already satisfied: six>=1.5 in c:\\users\\thedi\\onedrive\\desktop\\knu\\nhci\\.venv\\lib\\site-packages (from python-dateutil>=2.7->matplotlib) (1.17.0)\n",
      "Downloading matplotlib-3.10.1-cp313-cp313-win_amd64.whl (8.1 MB)\n",
      "   ---------------------------------------- 0.0/8.1 MB ? eta -:--:--\n",
      "   ----- ---------------------------------- 1.0/8.1 MB 9.1 MB/s eta 0:00:01\n",
      "   -------------- ------------------------- 2.9/8.1 MB 9.9 MB/s eta 0:00:01\n",
      "   ------------------------ --------------- 5.0/8.1 MB 9.5 MB/s eta 0:00:01\n",
      "   ---------------------------------------  7.9/8.1 MB 10.6 MB/s eta 0:00:01\n",
      "   ---------------------------------------- 8.1/8.1 MB 9.8 MB/s eta 0:00:00\n",
      "Using cached contourpy-1.3.1-cp313-cp313-win_amd64.whl (220 kB)\n",
      "Using cached cycler-0.12.1-py3-none-any.whl (8.3 kB)\n",
      "Using cached fonttools-4.56.0-cp313-cp313-win_amd64.whl (2.2 MB)\n",
      "Using cached kiwisolver-1.4.8-cp313-cp313-win_amd64.whl (71 kB)\n",
      "Using cached pillow-11.1.0-cp313-cp313-win_amd64.whl (2.6 MB)\n",
      "Downloading pyparsing-3.2.3-py3-none-any.whl (111 kB)\n",
      "Installing collected packages: pyparsing, pillow, kiwisolver, fonttools, cycler, contourpy, matplotlib\n",
      "Successfully installed contourpy-1.3.1 cycler-0.12.1 fonttools-4.56.0 kiwisolver-1.4.8 matplotlib-3.10.1 pillow-11.1.0 pyparsing-3.2.3\n"
     ]
    },
    {
     "name": "stderr",
     "output_type": "stream",
     "text": [
      "\n",
      "[notice] A new release of pip is available: 24.3.1 -> 25.0.1\n",
      "[notice] To update, run: python.exe -m pip install --upgrade pip\n"
     ]
    }
   ],
   "source": [
    "!pip install numpy matplotlib"
   ]
  },
  {
   "cell_type": "code",
   "execution_count": 16,
   "metadata": {
    "vscode": {
     "languageId": "plaintext"
    }
   },
   "outputs": [
    {
     "name": "stdout",
     "output_type": "stream",
     "text": [
      "[162199, 270721, 300000, 300000, 300000, 300000, 300000, 300000, 300000, 300000]\n",
      "0.006264519271481014 0.0019920614606057964 0.011814891923571255\n"
     ]
    }
   ],
   "source": [
    "import random\n",
    "\n",
    "import numpy as np\n",
    "\n",
    "from matplotlib import pyplot as plt\n",
    "\n",
    "\n",
    "def generate_points():\n",
    "    X = []\n",
    "    target = []\n",
    "\n",
    "    for i in range(150000):\n",
    "        x = np.random.uniform(0, 0.5)\n",
    "        y = np.random.uniform(0, 0.5)\n",
    "        z = np.random.uniform(0, 0.5)\n",
    "        X.append(np.array((x, y, z)))\n",
    "        target.append(-1)\n",
    "\n",
    "    for i in range(150000):\n",
    "        x = np.random.uniform(0.5, 1)\n",
    "        y = np.random.uniform(0.5, 1)\n",
    "        z = np.random.uniform(0.5, 1)\n",
    "        X.append(np.array((x, y, z)))\n",
    "        target.append(1)\n",
    "\n",
    "    X = np.array(X)\n",
    "    target = np.array(target)\n",
    "    return X, target\n",
    "\n",
    "\n",
    "X, y = generate_points()\n",
    "\n",
    "w1 = -0.01\n",
    "w2 = 0.02\n",
    "w3 = 0.03\n",
    "\n",
    "a = 0.15\n",
    "errors = []\n",
    "\n",
    "for i in range(10):\n",
    "    correct = 0\n",
    "    train = list(zip(X, y))\n",
    "    random.shuffle(train)\n",
    "    for x, target in train:\n",
    "        # pred = (w1 * x[0] + w2 * x[1])\n",
    "        pred = (w1 * x[0] + w2 * x[1] + w3 * x[2])\n",
    "        activation = pred if abs(pred) > 0.01 else -1 * pred\n",
    "        if activation > 0:\n",
    "            pred = 1\n",
    "        else:\n",
    "            pred = -1\n",
    "        if target * pred <= 0:\n",
    "            w1 += a * target * x[0]\n",
    "            w2 += a * target * x[1]\n",
    "            w3 += a * target * x[2]\n",
    "        else:\n",
    "            correct += 1\n",
    "    errors.append(correct)\n",
    "\n",
    "print(errors)\n",
    "# print(w1, w2)\n",
    "print(w1, w2, w3)"
   ]
  },
  {
   "cell_type": "code",
   "execution_count": null,
   "metadata": {},
   "outputs": [],
   "source": []
  }
 ],
 "metadata": {
  "kernelspec": {
   "display_name": "Python 3 (ipykernel)",
   "language": "python",
   "name": "python3"
  },
  "language_info": {
   "codemirror_mode": {
    "name": "ipython",
    "version": 3
   },
   "file_extension": ".py",
   "mimetype": "text/x-python",
   "name": "python",
   "nbconvert_exporter": "python",
   "pygments_lexer": "ipython3",
   "version": "3.13.2"
  }
 },
 "nbformat": 4,
 "nbformat_minor": 4
}
